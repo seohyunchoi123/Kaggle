{
 "cells": [
  {
   "cell_type": "code",
   "execution_count": 1,
   "metadata": {
    "_cell_guid": "b1076dfc-b9ad-4769-8c92-a6c4dae69d19",
    "_uuid": "8f2839f25d086af736a60e9eeb907d3b93b6e0e5",
    "execution": {
     "iopub.execute_input": "2021-02-01T13:02:44.597330Z",
     "iopub.status.busy": "2021-02-01T13:02:44.593800Z",
     "iopub.status.idle": "2021-02-01T13:02:52.718345Z",
     "shell.execute_reply": "2021-02-01T13:02:52.716507Z"
    },
    "papermill": {
     "duration": 8.147676,
     "end_time": "2021-02-01T13:02:52.718597",
     "exception": false,
     "start_time": "2021-02-01T13:02:44.570921",
     "status": "completed"
    },
    "tags": []
   },
   "outputs": [
    {
     "data": {
      "text/html": [
       "<style type='text/css'>\n",
       ".datatable table.frame { margin-bottom: 0; }\n",
       ".datatable table.frame thead { border-bottom: none; }\n",
       ".datatable table.frame tr.coltypes td {  color: #FFFFFF;  line-height: 6px;  padding: 0 0.5em;}\n",
       ".datatable .bool    { background: #DDDD99; }\n",
       ".datatable .object  { background: #565656; }\n",
       ".datatable .int     { background: #5D9E5D; }\n",
       ".datatable .float   { background: #4040CC; }\n",
       ".datatable .str     { background: #CC4040; }\n",
       ".datatable .row_index {  background: var(--jp-border-color3);  border-right: 1px solid var(--jp-border-color0);  color: var(--jp-ui-font-color3);  font-size: 9px;}\n",
       ".datatable .frame tr.coltypes .row_index {  background: var(--jp-border-color0);}\n",
       ".datatable th:nth-child(2) { padding-left: 12px; }\n",
       ".datatable .hellipsis {  color: var(--jp-cell-editor-border-color);}\n",
       ".datatable .vellipsis {  background: var(--jp-layout-color0);  color: var(--jp-cell-editor-border-color);}\n",
       ".datatable .na {  color: var(--jp-cell-editor-border-color);  font-size: 80%;}\n",
       ".datatable .footer { font-size: 9px; }\n",
       ".datatable .frame_dimensions {  background: var(--jp-border-color3);  border-top: 1px solid var(--jp-border-color0);  color: var(--jp-ui-font-color3);  display: inline-block;  opacity: 0.6;  padding: 1px 10px 1px 5px;}\n",
       "</style>\n"
      ],
      "text/plain": [
       "<IPython.core.display.HTML object>"
      ]
     },
     "metadata": {},
     "output_type": "display_data"
    },
    {
     "name": "stdout",
     "output_type": "stream",
     "text": [
      "/kaggle/input/dacon-lg/train_problem_data.csv\n",
      "/kaggle/input/dacon-lg/sample_submission.csv\n",
      "/kaggle/input/dacon-lg/test_err_data.csv\n",
      "/kaggle/input/dacon-lg/train_err_data.csv\n",
      "/kaggle/input/dacon-lg/train_quality_data.csv\n",
      "/kaggle/input/dacon-lg/test_quality_data.csv\n"
     ]
    }
   ],
   "source": [
    "# This Python 3 environment comes with many helpful analytics libraries installed\n",
    "# It is defined by the kaggle/python Docker image: https://github.com/kaggle/docker-python\n",
    "# For example, here's several helpful packages to load\n",
    "\n",
    "import numpy as np # linear algebra\n",
    "import pandas as pd # data processing, CSV file I/O (e.g. pd.read_csv)\n",
    "import matplotlib.pyplot as plt\n",
    "import seaborn as sns\n",
    "import lightgbm as lgb\n",
    "import xgboost as xgb\n",
    "\n",
    "from tqdm import tqdm\n",
    "from scipy import stats\n",
    "from scipy.stats import norm, skew\n",
    "from scipy.special import boxcox1p\n",
    "from sklearn.preprocessing import StandardScaler, RobustScaler, MinMaxScaler\n",
    "from sklearn.decomposition import PCA\n",
    "from sklearn.ensemble import RandomForestRegressor, GradientBoostingClassifier\n",
    "from sklearn.model_selection import StratifiedKFold, KFold, cross_val_score, train_test_split\n",
    "from sklearn.linear_model import ElasticNet, Lasso,  BayesianRidge, LassoLarsIC\n",
    "from sklearn.kernel_ridge import KernelRidge\n",
    "from sklearn.pipeline import make_pipeline\n",
    "from sklearn.base import BaseEstimator, TransformerMixin, RegressorMixin, clone\n",
    "from sklearn.metrics import mean_squared_error, roc_auc_score\n",
    "from keras import optimizers\n",
    "from keras.models import Sequential\n",
    "from keras.layers import Dense, BatchNormalization\n",
    "from keras.wrappers.scikit_learn import KerasRegressor, KerasClassifier\n",
    "from collections import Counter, defaultdict\n",
    "\n",
    "\n",
    "# Input data files are available in the read-only \"../input/\" directory\n",
    "# For example, running this (by clicking run or pressing Shift+Enter) will list all files under the input directory\n",
    "\n",
    "import os\n",
    "for dirname, _, filenames in os.walk('/kaggle/input'):\n",
    "    for filename in filenames:\n",
    "        print(os.path.join(dirname, filename))\n",
    "\n",
    "# You can write up to 20GB to the current directory (/kaggle/working/) that gets preserved as output when you create a version using \"Save & Run All\" \n",
    "# You can also write temporary files to /kaggle/temp/, but they won't be saved outside of the current session"
   ]
  },
  {
   "cell_type": "code",
   "execution_count": 2,
   "metadata": {
    "_cell_guid": "79c7e3d0-c299-4dcb-8224-4455121ee9b0",
    "_uuid": "d629ff2d2480ee46fbb7e2d37f6b5fab8052498a",
    "execution": {
     "iopub.execute_input": "2021-02-01T13:02:52.759390Z",
     "iopub.status.busy": "2021-02-01T13:02:52.758509Z",
     "iopub.status.idle": "2021-02-01T13:03:17.610615Z",
     "shell.execute_reply": "2021-02-01T13:03:17.611435Z"
    },
    "papermill": {
     "duration": 24.878131,
     "end_time": "2021-02-01T13:03:17.611604",
     "exception": false,
     "start_time": "2021-02-01T13:02:52.733473",
     "status": "completed"
    },
    "tags": []
   },
   "outputs": [
    {
     "name": "stdout",
     "output_type": "stream",
     "text": [
      "CPU times: user 17.4 s, sys: 1.13 s, total: 18.5 s\n",
      "Wall time: 24.8 s\n"
     ]
    },
    {
     "name": "stderr",
     "output_type": "stream",
     "text": [
      "<string>:2: DtypeWarning: Columns (10,11,12) have mixed types.Specify dtype option on import or set low_memory=False.\n"
     ]
    }
   ],
   "source": [
    "%%time\n",
    "train_err = pd.read_csv(\"/kaggle/input/dacon-lg/train_err_data.csv\")\n",
    "train_qual = pd.read_csv(\"/kaggle/input/dacon-lg/train_quality_data.csv\")\n",
    "train_prb = pd.read_csv(\"/kaggle/input/dacon-lg/train_problem_data.csv\")\n",
    "\n",
    "is_trainn = False\n",
    "if is_trainn:\n",
    "    train_err = train_err[:100000]"
   ]
  },
  {
   "cell_type": "code",
   "execution_count": 3,
   "metadata": {
    "execution": {
     "iopub.execute_input": "2021-02-01T13:03:17.665553Z",
     "iopub.status.busy": "2021-02-01T13:03:17.664929Z",
     "iopub.status.idle": "2021-02-01T13:03:18.067141Z",
     "shell.execute_reply": "2021-02-01T13:03:18.066515Z"
    },
    "papermill": {
     "duration": 0.434577,
     "end_time": "2021-02-01T13:03:18.067282",
     "exception": false,
     "start_time": "2021-02-01T13:03:17.632705",
     "status": "completed"
    },
    "tags": []
   },
   "outputs": [
    {
     "ename": "KeyError",
     "evalue": "''",
     "output_type": "error",
     "traceback": [
      "\u001b[0;31m---------------------------------------------------------------------------\u001b[0m",
      "\u001b[0;31mKeyError\u001b[0m                                  Traceback (most recent call last)",
      "\u001b[0;32m/opt/conda/lib/python3.7/site-packages/pandas/core/indexes/base.py\u001b[0m in \u001b[0;36mget_loc\u001b[0;34m(self, key, method, tolerance)\u001b[0m\n\u001b[1;32m   2897\u001b[0m             \u001b[0;32mtry\u001b[0m\u001b[0;34m:\u001b[0m\u001b[0;34m\u001b[0m\u001b[0;34m\u001b[0m\u001b[0m\n\u001b[0;32m-> 2898\u001b[0;31m                 \u001b[0;32mreturn\u001b[0m \u001b[0mself\u001b[0m\u001b[0;34m.\u001b[0m\u001b[0m_engine\u001b[0m\u001b[0;34m.\u001b[0m\u001b[0mget_loc\u001b[0m\u001b[0;34m(\u001b[0m\u001b[0mcasted_key\u001b[0m\u001b[0;34m)\u001b[0m\u001b[0;34m\u001b[0m\u001b[0;34m\u001b[0m\u001b[0m\n\u001b[0m\u001b[1;32m   2899\u001b[0m             \u001b[0;32mexcept\u001b[0m \u001b[0mKeyError\u001b[0m \u001b[0;32mas\u001b[0m \u001b[0merr\u001b[0m\u001b[0;34m:\u001b[0m\u001b[0;34m\u001b[0m\u001b[0;34m\u001b[0m\u001b[0m\n",
      "\u001b[0;32mpandas/_libs/index.pyx\u001b[0m in \u001b[0;36mpandas._libs.index.IndexEngine.get_loc\u001b[0;34m()\u001b[0m\n",
      "\u001b[0;32mpandas/_libs/index.pyx\u001b[0m in \u001b[0;36mpandas._libs.index.IndexEngine.get_loc\u001b[0;34m()\u001b[0m\n",
      "\u001b[0;32mpandas/_libs/hashtable_class_helper.pxi\u001b[0m in \u001b[0;36mpandas._libs.hashtable.PyObjectHashTable.get_item\u001b[0;34m()\u001b[0m\n",
      "\u001b[0;32mpandas/_libs/hashtable_class_helper.pxi\u001b[0m in \u001b[0;36mpandas._libs.hashtable.PyObjectHashTable.get_item\u001b[0;34m()\u001b[0m\n",
      "\u001b[0;31mKeyError\u001b[0m: ''",
      "\nThe above exception was the direct cause of the following exception:\n",
      "\u001b[0;31mKeyError\u001b[0m                                  Traceback (most recent call last)",
      "\u001b[0;32m<ipython-input-3-52e91dc0fe14>\u001b[0m in \u001b[0;36m<module>\u001b[0;34m\u001b[0m\n\u001b[0;32m----> 1\u001b[0;31m \u001b[0mtrain_err\u001b[0m\u001b[0;34m[\u001b[0m\u001b[0;34m''\u001b[0m\u001b[0;34m]\u001b[0m\u001b[0;34m\u001b[0m\u001b[0;34m\u001b[0m\u001b[0m\n\u001b[0m",
      "\u001b[0;32m/opt/conda/lib/python3.7/site-packages/pandas/core/frame.py\u001b[0m in \u001b[0;36m__getitem__\u001b[0;34m(self, key)\u001b[0m\n\u001b[1;32m   2904\u001b[0m             \u001b[0;32mif\u001b[0m \u001b[0mself\u001b[0m\u001b[0;34m.\u001b[0m\u001b[0mcolumns\u001b[0m\u001b[0;34m.\u001b[0m\u001b[0mnlevels\u001b[0m \u001b[0;34m>\u001b[0m \u001b[0;36m1\u001b[0m\u001b[0;34m:\u001b[0m\u001b[0;34m\u001b[0m\u001b[0;34m\u001b[0m\u001b[0m\n\u001b[1;32m   2905\u001b[0m                 \u001b[0;32mreturn\u001b[0m \u001b[0mself\u001b[0m\u001b[0;34m.\u001b[0m\u001b[0m_getitem_multilevel\u001b[0m\u001b[0;34m(\u001b[0m\u001b[0mkey\u001b[0m\u001b[0;34m)\u001b[0m\u001b[0;34m\u001b[0m\u001b[0;34m\u001b[0m\u001b[0m\n\u001b[0;32m-> 2906\u001b[0;31m             \u001b[0mindexer\u001b[0m \u001b[0;34m=\u001b[0m \u001b[0mself\u001b[0m\u001b[0;34m.\u001b[0m\u001b[0mcolumns\u001b[0m\u001b[0;34m.\u001b[0m\u001b[0mget_loc\u001b[0m\u001b[0;34m(\u001b[0m\u001b[0mkey\u001b[0m\u001b[0;34m)\u001b[0m\u001b[0;34m\u001b[0m\u001b[0;34m\u001b[0m\u001b[0m\n\u001b[0m\u001b[1;32m   2907\u001b[0m             \u001b[0;32mif\u001b[0m \u001b[0mis_integer\u001b[0m\u001b[0;34m(\u001b[0m\u001b[0mindexer\u001b[0m\u001b[0;34m)\u001b[0m\u001b[0;34m:\u001b[0m\u001b[0;34m\u001b[0m\u001b[0;34m\u001b[0m\u001b[0m\n\u001b[1;32m   2908\u001b[0m                 \u001b[0mindexer\u001b[0m \u001b[0;34m=\u001b[0m \u001b[0;34m[\u001b[0m\u001b[0mindexer\u001b[0m\u001b[0;34m]\u001b[0m\u001b[0;34m\u001b[0m\u001b[0;34m\u001b[0m\u001b[0m\n",
      "\u001b[0;32m/opt/conda/lib/python3.7/site-packages/pandas/core/indexes/base.py\u001b[0m in \u001b[0;36mget_loc\u001b[0;34m(self, key, method, tolerance)\u001b[0m\n\u001b[1;32m   2898\u001b[0m                 \u001b[0;32mreturn\u001b[0m \u001b[0mself\u001b[0m\u001b[0;34m.\u001b[0m\u001b[0m_engine\u001b[0m\u001b[0;34m.\u001b[0m\u001b[0mget_loc\u001b[0m\u001b[0;34m(\u001b[0m\u001b[0mcasted_key\u001b[0m\u001b[0;34m)\u001b[0m\u001b[0;34m\u001b[0m\u001b[0;34m\u001b[0m\u001b[0m\n\u001b[1;32m   2899\u001b[0m             \u001b[0;32mexcept\u001b[0m \u001b[0mKeyError\u001b[0m \u001b[0;32mas\u001b[0m \u001b[0merr\u001b[0m\u001b[0;34m:\u001b[0m\u001b[0;34m\u001b[0m\u001b[0;34m\u001b[0m\u001b[0m\n\u001b[0;32m-> 2900\u001b[0;31m                 \u001b[0;32mraise\u001b[0m \u001b[0mKeyError\u001b[0m\u001b[0;34m(\u001b[0m\u001b[0mkey\u001b[0m\u001b[0;34m)\u001b[0m \u001b[0;32mfrom\u001b[0m \u001b[0merr\u001b[0m\u001b[0;34m\u001b[0m\u001b[0;34m\u001b[0m\u001b[0m\n\u001b[0m\u001b[1;32m   2901\u001b[0m \u001b[0;34m\u001b[0m\u001b[0m\n\u001b[1;32m   2902\u001b[0m         \u001b[0;32mif\u001b[0m \u001b[0mtolerance\u001b[0m \u001b[0;32mis\u001b[0m \u001b[0;32mnot\u001b[0m \u001b[0;32mNone\u001b[0m\u001b[0;34m:\u001b[0m\u001b[0;34m\u001b[0m\u001b[0;34m\u001b[0m\u001b[0m\n",
      "\u001b[0;31mKeyError\u001b[0m: ''"
     ]
    }
   ],
   "source": [
    "train_err['']"
   ]
  },
  {
   "cell_type": "markdown",
   "metadata": {
    "papermill": {
     "duration": 0.014638,
     "end_time": "2021-02-01T13:03:18.097102",
     "exception": false,
     "start_time": "2021-02-01T13:03:18.082464",
     "status": "completed"
    },
    "tags": []
   },
   "source": [
    "# Feature Engineering"
   ]
  },
  {
   "cell_type": "code",
   "execution_count": 4,
   "metadata": {
    "execution": {
     "iopub.execute_input": "2021-02-01T13:03:18.148026Z",
     "iopub.status.busy": "2021-02-01T13:03:18.142709Z",
     "iopub.status.idle": "2021-02-01T13:32:12.254274Z",
     "shell.execute_reply": "2021-02-01T13:32:12.253464Z"
    },
    "papermill": {
     "duration": 1734.142339,
     "end_time": "2021-02-01T13:32:12.254420",
     "exception": false,
     "start_time": "2021-02-01T13:03:18.112081",
     "status": "completed"
    },
    "tags": []
   },
   "outputs": [
    {
     "name": "stderr",
     "output_type": "stream",
     "text": [
      "100%|██████████| 16554663/16554663 [00:57<00:00, 289316.97it/s]\n",
      "100%|██████████| 16554663/16554663 [01:04<00:00, 256220.35it/s]\n",
      "100%|██████████| 16554663/16554663 [00:57<00:00, 289036.93it/s]\n",
      "100%|██████████| 16554663/16554663 [00:51<00:00, 318499.93it/s]\n",
      "100%|██████████| 16554663/16554663 [01:05<00:00, 251236.73it/s]\n",
      "100%|██████████| 16554663/16554663 [00:54<00:00, 305886.15it/s]\n",
      "100%|██████████| 16554663/16554663 [00:55<00:00, 299191.54it/s]\n",
      "100%|██████████| 16554663/16554663 [00:53<00:00, 308646.84it/s]\n",
      "100%|██████████| 16554663/16554663 [00:52<00:00, 314112.32it/s]\n",
      "100%|██████████| 16554663/16554663 [00:53<00:00, 307053.14it/s]\n",
      "100%|██████████| 16554663/16554663 [00:53<00:00, 307503.08it/s]\n",
      "100%|██████████| 16554663/16554663 [00:58<00:00, 284969.06it/s]\n",
      "100%|██████████| 16554663/16554663 [00:55<00:00, 299653.45it/s]\n",
      "100%|██████████| 16554663/16554663 [00:54<00:00, 301237.92it/s]\n"
     ]
    }
   ],
   "source": [
    "imp_list = defaultdict(lambda x: 'error')\n",
    "def preprcss(data, data_qual, is_train=True):\n",
    "    # NA\n",
    "    data['errcode'].fillna(1)\n",
    "    \n",
    "    # CNT dictionary\n",
    "    tmp = data.groupby('user_id')['time'].count()\n",
    "    cnt_dic = defaultdict(lambda :99999, zip(tmp.index, tmp))\n",
    "    \n",
    "    # fwver_changed dictionary\n",
    "    tmp = data.groupby('user_id')['fwver'].nunique()\n",
    "    tmp2=  tmp.apply(lambda x: 0 if x==1 else 1)\n",
    "    fwver_dic = defaultdict(lambda :0, zip(tmp2.index, tmp2))\n",
    "    \n",
    "    tmp = data_qual.groupby('user_id')['fwver'].nunique()\n",
    "    tmp2 = tmp.apply(lambda x: 1 if x>1 else 0)\n",
    "    qualfwver_dic = defaultdict(lambda :0, zip(tmp2.index, tmp2))\n",
    "    \n",
    "    data['fw'] = data['fwver'].apply(lambda x:x[:5])\n",
    "    tmp = data.groupby('user_id')['fw'].nunique()\n",
    "    tmp2=  tmp.apply(lambda x: 0 if x==1 else 1)\n",
    "    fw_dic = defaultdict(lambda :0, zip(tmp2.index, tmp2))  \n",
    "    data.drop('fw', axis=1, inplace=True)\n",
    "    \n",
    "    def upgrade_chk(x):\n",
    "        ans=0\n",
    "        start=x[0]\n",
    "        for value in x[1:]:\n",
    "            if start < value:\n",
    "                ans += 1\n",
    "            start = value\n",
    "        return ans\n",
    "\n",
    "    def downgrade_chk(x):\n",
    "        ans=0\n",
    "        start=x[0]\n",
    "        for value in x[1:]:\n",
    "            if start > value:\n",
    "                ans += 1\n",
    "            start = value\n",
    "        return ans\n",
    "\n",
    "    data['fwver_num'] = data['fwver'].apply(lambda x: int(x.replace(\".\",\"\")))\n",
    "    tmp = data.groupby('user_id')['fwver_num'].unique()\n",
    "    tmp2 = tmp.apply(upgrade_chk)\n",
    "    up_dic = defaultdict(lambda :0, zip(tmp2.index, tmp2))\n",
    "    tmp2 = tmp.apply(downgrade_chk)\n",
    "    down_dic = defaultdict(lambda :0, zip(tmp2.index, tmp2))\n",
    "    \n",
    "    # model_changed dictionary\n",
    "    tmp = data.groupby('user_id')['model_nm'].nunique()\n",
    "    tmp2=  tmp.apply(lambda x: 0 if x==1 else 1)\n",
    "    model_dic = defaultdict(lambda :0, zip(tmp2.index, tmp2))\n",
    "    \n",
    "    # errtype/errcode nunique dictionary\n",
    "    tmp = data.groupby('user_id')['errcode'].nunique()\n",
    "    tmp2=  tmp.apply(lambda x: 0 if x==1 else 1)\n",
    "    ecode_dic = defaultdict(lambda :0, zip(tmp2.index, tmp2))\n",
    "    \n",
    "    tmp = data.groupby('user_id')['errtype'].nunique()\n",
    "    tmp2=  tmp.apply(lambda x: 0 if x==1 else 1)\n",
    "    etype_dic = defaultdict(lambda :0, zip(tmp2.index, tmp2))\n",
    "    \n",
    "    # qual_change\n",
    "    tmp = data_qual.groupby('user_id')[['quality_'+str(i) for i in range(13)]].nunique()-1\n",
    "    tmp2 = tmp.sum(axis=1)\n",
    "    qual_dic = defaultdict(lambda :0, zip(tmp2.index, tmp2))\n",
    "    \n",
    "    # qual_absdiff\n",
    "    dat = data_qual.copy()\n",
    "    dat['time'] = pd.to_datetime(dat['time'], format=\"%Y%m%d%H%M%S\")\n",
    "    dat['key'] = dat['time'].astype(str) + dat['user_id'].astype(str) + dat['fwver']\n",
    "    seq = []\n",
    "    is_first = True\n",
    "    for i, key in enumerate(dat['key']):\n",
    "        if is_first:\n",
    "            start = 0\n",
    "            is_first=False\n",
    "            seq.append(start)\n",
    "        else:\n",
    "            if key == prev_key:\n",
    "                start += 1\n",
    "            else:\n",
    "                start = 0\n",
    "            seq.append(start)\n",
    "        prev_key = key\n",
    "    dat['seq'] = seq\n",
    "    dat['min'] = dat['seq'].apply(lambda x: pd.Timedelta(minutes=10*x))\n",
    "    dat['time2'] = dat['time'] + dat['min']\n",
    "\n",
    "    for col in ['quality_'+str(i) for i in range(13)]:\n",
    "        dat[col+'_lag1'] = dat.groupby(['time', 'user_id', 'fwver'])[col].shift(1)\n",
    "\n",
    "    for col in ['quality_'+str(i) for i in range(13)]:\n",
    "        dat[col+'_absdiff'] = abs(dat[col].apply(lambda x:float(str(x).replace(\",\",\"\"))) - dat[col+'_lag1'].apply(lambda x:float(str(x).replace(\",\",\"\"))))\n",
    "\n",
    "    qual_absdiff = dat.groupby('user_id',as_index=False)[['quality_'+str(i)+'_absdiff' for i in range(13)]].mean()\n",
    "    \n",
    "    # qual_nzero_cnt\n",
    "    data_qual.fillna(0, inplace=True)\n",
    "    dat = data_qual[['user_id']+['quality_'+str(i) for i in range(13)]]\n",
    "    dat = pd.concat([dat[['user_id']], (dat[['quality_'+str(i) for i in range(13)]] !=0).astype(int)], axis=1)\n",
    "    qual_nzero_cnt = dat.groupby('user_id', as_index=False)[['quality_'+str(i) for i in range(13)]].sum()\n",
    "    \n",
    "    # qual_0 qual_2 trend\n",
    "    t1=data_qual.groupby(['user_id', 'fwver'])[['quality_0', 'quality_2']].nth(7) \n",
    "    t1.fillna(0, inplace=True)\n",
    "    t2=data_qual.groupby(['user_id', 'fwver'])[['quality_0', 'quality_2']].nth(4) \n",
    "    t2.fillna(0, inplace=True)\n",
    "    qualdiff_trend = (t1-t2).reset_index().rename(columns={'quality_0':\"qual0_trend\", 'quality_2':\"qual2_trend\"})\n",
    "    qualdiff_trend.drop('fwver',axis=1,inplace=True)\n",
    "    qualdiff_trend = qualdiff_trend.groupby('user_id')[['qual0_trend', 'qual2_trend']].mean()\n",
    "    \n",
    "    # n_qual * (mainhour, day)\n",
    "    data_qual.fillna(0, inplace=True)\n",
    "    data_qual['time'] = pd.to_datetime(data_qual['time'], format=\"%Y%m%d%H%M%S\")\n",
    "    data_qual['HH'] = data_qual['time'].dt.hour\n",
    "    data_qual['MMDD'] = data_qual['time'].dt.month.astype(str) + data_qual['time'].dt.day.astype(str)\n",
    "    data_qual['day'] = data_qual['MMDD'].apply(lambda x: 'Mon'  if x in ['112','119','1116','1123','1130'] else ('Sat' if x in['117','1114','1121','1128'] else ('Sun' if x in ['111','118','1115','1122','1129'] else 'etc')))\n",
    "    data_qual['mainhour'] = data_qual['HH'].apply(lambda x: 1 if int(x)>=10 and int(x)<=23 else 0)\n",
    "    tmp = (data_qual.groupby(['user_id' ,'day'])[list(map(lambda x: 'quality_'+ x, [str(i) for i in range(13)]))].nunique()-1).sum(axis=1).reset_index().rename(columns={0:'n_qualchange'})\n",
    "#     tmp = tmp[tmp['day']!='etc']\n",
    "\n",
    "    tmp2 = pd.pivot_table(tmp, \n",
    "                          values='n_qualchange',\n",
    "                         index=['user_id'],\n",
    "                         columns='day',\n",
    "                         aggfunc=sum)\n",
    "    day_nqual = tmp2.fillna(0).reset_index().rename(columns={'Mon':'Mon_nqual',\n",
    "                                                               'Sat':'Sat_nqual',\n",
    "                                                               'Sun':'Sun_nqual'})\n",
    "    \n",
    "    tmp = (data_qual.groupby(['user_id' ,'mainhour'])[list(map(lambda x: 'quality_'+ x, [str(i) for i in range(13)]))].nunique()-1).sum(axis=1).reset_index().rename(columns={0:'n_qualchange'})\n",
    "#     tmp = tmp[tmp['mainhour']!=0]\n",
    "\n",
    "    tmp2 = pd.pivot_table(tmp, \n",
    "                          values='n_qualchange',\n",
    "                         index=['user_id'],\n",
    "                         columns='mainhour',\n",
    "                         aggfunc=sum)\n",
    "    mainhour_nqual = tmp2.fillna(0).reset_index().rename(columns={1:'mainhour_nqual'})\n",
    "\n",
    "    # time_stat\n",
    "    data['time'] = pd.to_datetime(data['time'], format=\"%Y%m%d%H%M%S\")\n",
    "    data['time_date'] = pd.to_datetime(data['time'], format=\"%Y%m%d%H%M%S\")\n",
    "    data['time_int'] = data['time_date'].values.astype(int)\n",
    "    data.groupby('user_id').agg({'time_int': [np.min, np.max, np.mean, np.std]})\n",
    "    time_stat = data.groupby('user_id').agg({'time_int': [np.min, np.max, np.mean, np.std, skew]}).reset_index()\n",
    "    time_stat.columns = ['user_id', 'time_min', 'time_max', 'time_max', 'time_std', 'time_skew']\n",
    "    data.drop('time_date', axis=1, inplace=True)\n",
    "    \n",
    "    #### Start!! \n",
    "    result =  pd.DataFrame(list(range(data['user_id'].min(), data['user_id'].max()+1)), columns = ['user_id'])\n",
    "    \n",
    "    # is_fwver_chamged / fw_changed\n",
    "    result['is_fwver_changed'] = result['user_id'].apply(lambda x: fwver_dic[x])\n",
    "#     result['is_fw_changed'] = result['user_id'].apply(lambda x: fw_dic[x])\n",
    "    result['n_upgrade'] = result['user_id'].map(up_dic)\n",
    "    result['n_downgrade'] = result['user_id'].map(down_dic)\n",
    "    result['is_model_chagned'] = result['user_id'].map(model_dic)\n",
    "    result['n_errcode'] = result['user_id'].map(ecode_dic)\n",
    "    result['n_errtype'] = result['user_id'].map(etype_dic)\n",
    "    result['n_qualchange'] = result['user_id'].map(qual_dic)\n",
    "    result['is_qualfwver_changed'] = result['user_id'].map(qualfwver_dic)\n",
    "    result = result.merge(qual_absdiff, on='user_id', how='left')\n",
    "#     result = result.merge(qual_nzero_cnt, on = 'user_id', how='left')\n",
    "#     result = result.merge(qualdiff_trend, on='user_id', how='left')\n",
    "#     result = result.merge(day_nqual, on='user_id', how='left')\n",
    "#     result = result.merge(mainhour_nqual, on='user_id', how='left')\n",
    "    result = result.merge(time_stat, on='user_id', how='left')\n",
    "    result.fillna(0, inplace=True)\n",
    "    \n",
    "    \n",
    "    # Dummy & sum (part1)\n",
    "    data['HH'] = data['time'].dt.hour\n",
    "    data['MMDD'] = data['time'].dt.month.astype(str) + data['time'].dt.day.astype(str)\n",
    "    data['day'] = data['MMDD'].apply(lambda x: 'Mon'  if x in ['112','119','1116','1123','1130'] else ('Sat' if x in['117','1114','1121','1128'] else ('Sun' if x in ['111','118','1115','1122','1129'] else 'etc')))\n",
    "    data['mainhour'] = data['HH'].apply(lambda x: 1 if int(x)>=10 and int(x)<=23 else 0)\n",
    "    dic_n={'day':99, 'mainhour':99, 'model_nm':35, 'fwver':10, 'errtype':42, 'errcode':50}\n",
    "    for var in ['day','mainhour', 'model_nm', 'fwver', 'errtype', 'errcode']:\n",
    "        n = dic_n[var]\n",
    "        if is_train:\n",
    "            imp_list[var] = data[var].value_counts().index[:n] # train or data\n",
    "            data[var] = data[var].apply(lambda x: x if x in imp_list[var] else '{}_etc'.format(var))\n",
    "        else:\n",
    "            data[var] = data[var].apply(lambda x: x if x in imp_list[var] else '{}_etc'.format(var))\n",
    "        id_error = data[['user_id',var]].values\n",
    "        value_list = data[var].unique()\n",
    "        dic = dict(zip(value_list, range(len(value_list))))\n",
    "        id_error[:,1] = list(map(lambda x:dic[x], id_error[:,1]))\n",
    "        matrix = np.zeros((data['user_id'].max() - data['user_id'].min() + 1, min(n+1, len(value_list)))) \n",
    "        user_id_min = min(id_error[:,0])\n",
    "        for person_idx, value in tqdm(id_error):\n",
    "            # person_idx - train_user_id_min 위치에 person_idx, errtype에 해당하는 error값을 +1\n",
    "            matrix[person_idx - user_id_min, value] += 1\n",
    "        DT = pd.DataFrame(matrix, columns = list(map(lambda x: var + '_'+ str(x), value_list)))\n",
    "        result = pd.concat([result, DT], axis=1)\n",
    "        # if is_train==False 이면 train_err에서도 var지울까 \n",
    "    data.drop(['time', 'HH', 'MMDD'], axis=1, inplace=True)\n",
    "    \n",
    "    # Dummy & sum (part2)\n",
    "    for col1 in ['day', 'mainhour']:\n",
    "        for col2 in ['model_nm', 'fwver', 'errtype', 'errcode']:\n",
    "            data[col1+\"_\"+col2] = data[col1].astype(str) + data[col2].astype(str)\n",
    "            if col1 == 'mainhour':\n",
    "                data.drop(col2, axis=1, inplace=True)\n",
    "        data.drop(col1, axis=1, inplace=True)\n",
    "    dic_n={'day_model_nm':70, 'day_fwver':70, 'day_errtype':70, 'mainhour_model_nm':70, 'mainhour_fwver':70, 'mainhour_errtype':70, 'day_errcode':70, 'mainhour_errcode':70}\n",
    "    for var in ['day_model_nm','day_fwver', 'day_errtype', 'mainhour_model_nm', 'mainhour_fwver', 'mainhour_errtype', 'day_errcode', 'mainhour_errcode']: # \n",
    "        n = dic_n[var]\n",
    "        if is_train:\n",
    "            imp_list[var] = data[var].value_counts().index[:n] # train or data\n",
    "            data[var] = data[var].apply(lambda x: x if x in imp_list[var] else '{}_etc'.format(var))\n",
    "        else:\n",
    "            data[var] = data[var].apply(lambda x: x if x in imp_list[var] else '{}_etc'.format(var))\n",
    "        id_error = data[['user_id',var]].values\n",
    "        value_list = data[var].unique()\n",
    "        dic = dict(zip(value_list, range(len(value_list))))\n",
    "        id_error[:,1] = list(map(lambda x:dic[x], id_error[:,1]))\n",
    "        matrix = np.zeros((data['user_id'].max() - data['user_id'].min() + 1, min(n+1, len(value_list)))) \n",
    "        user_id_min = min(id_error[:,0])\n",
    "        for person_idx, value in tqdm(id_error):\n",
    "            # person_idx - train_user_id_min 위치에 person_idx, errtype에 해당하는 error값을 +1\n",
    "            matrix[person_idx - user_id_min, value] += 1\n",
    "        DT = pd.DataFrame(matrix, columns = list(map(lambda x: var + '_'+ str(x), value_list)))\n",
    "        result = pd.concat([result, DT], axis=1)\n",
    "        data.drop(var, axis=1, inplace=True)\n",
    "    \n",
    "    # pct\n",
    "    for var in ['day_Mon', 'day_Sat', 'day_Sun', 'mainhour_1']:\n",
    "        result[var +'_pct'] = result[var] / result['user_id'].apply(lambda x: cnt_dic[x])\n",
    "    \n",
    "    # del\n",
    "    result.drop(['mainhour_0', 'day_etc'], axis=1)\n",
    "    \n",
    "    # Making Y\n",
    "    data = result.copy()\n",
    "#     data.drop(col_del, axis=1, inplace=True)\n",
    "    if is_train:\n",
    "        data = data.merge(train_prb, on='user_id', how='left')\n",
    "        data = data.rename(columns={'time':'is_complain'})\n",
    "        data['is_complain'] = (~data['is_complain'].isnull()).astype(int)\n",
    "    data = data[~data['user_id'].duplicated()].reset_index(drop=True)\n",
    "    return data\n",
    "\n",
    "train = preprcss(train_err, train_qual)"
   ]
  },
  {
   "cell_type": "markdown",
   "metadata": {
    "papermill": {
     "duration": 4.040482,
     "end_time": "2021-02-01T13:32:20.303288",
     "exception": false,
     "start_time": "2021-02-01T13:32:16.262806",
     "status": "completed"
    },
    "tags": []
   },
   "source": [
    "# Modeling"
   ]
  },
  {
   "cell_type": "code",
   "execution_count": 5,
   "metadata": {
    "execution": {
     "iopub.execute_input": "2021-02-01T13:32:26.048901Z",
     "iopub.status.busy": "2021-02-01T13:32:26.048108Z",
     "iopub.status.idle": "2021-02-01T13:32:26.052584Z",
     "shell.execute_reply": "2021-02-01T13:32:26.052047Z"
    },
    "papermill": {
     "duration": 2.697634,
     "end_time": "2021-02-01T13:32:26.052734",
     "exception": false,
     "start_time": "2021-02-01T13:32:23.355100",
     "status": "completed"
    },
    "tags": []
   },
   "outputs": [
    {
     "name": "stdout",
     "output_type": "stream",
     "text": [
      "Index(['is_fwver_changed', 'n_upgrade', 'n_downgrade', 'is_model_chagned',\n",
      "       'n_errcode', 'n_errtype', 'n_qualchange', 'is_qualfwver_changed',\n",
      "       'quality_0_absdiff', 'quality_1_absdiff',\n",
      "       ...\n",
      "       'mainhour_errcode_1terminate by peer user', 'mainhour_errcode_04',\n",
      "       'mainhour_errcode_06', 'mainhour_errcode_05', 'mainhour_errcode_1100',\n",
      "       'mainhour_errcode_199', 'day_Mon_pct', 'day_Sat_pct', 'day_Sun_pct',\n",
      "       'mainhour_1_pct'],\n",
      "      dtype='object', length=552)\n"
     ]
    }
   ],
   "source": [
    "X = train.columns[(train.columns != 'user_id')&(train.columns != 'is_complain')]\n",
    "y = 'is_complain'\n",
    "print(X)"
   ]
  },
  {
   "cell_type": "code",
   "execution_count": 6,
   "metadata": {
    "execution": {
     "iopub.execute_input": "2021-02-01T13:32:31.546830Z",
     "iopub.status.busy": "2021-02-01T13:32:31.546146Z",
     "iopub.status.idle": "2021-02-01T13:32:38.347877Z",
     "shell.execute_reply": "2021-02-01T13:32:38.348361Z"
    },
    "papermill": {
     "duration": 9.585513,
     "end_time": "2021-02-01T13:32:38.348511",
     "exception": false,
     "start_time": "2021-02-01T13:32:28.762998",
     "status": "completed"
    },
    "tags": []
   },
   "outputs": [
    {
     "name": "stdout",
     "output_type": "stream",
     "text": [
      "0.8336679\n",
      "CPU times: user 24.5 s, sys: 362 ms, total: 24.9 s\n",
      "Wall time: 6.44 s\n"
     ]
    },
    {
     "data": {
      "text/html": [
       "<div>\n",
       "<style scoped>\n",
       "    .dataframe tbody tr th:only-of-type {\n",
       "        vertical-align: middle;\n",
       "    }\n",
       "\n",
       "    .dataframe tbody tr th {\n",
       "        vertical-align: top;\n",
       "    }\n",
       "\n",
       "    .dataframe thead th {\n",
       "        text-align: right;\n",
       "    }\n",
       "</style>\n",
       "<table border=\"1\" class=\"dataframe\">\n",
       "  <thead>\n",
       "    <tr style=\"text-align: right;\">\n",
       "      <th>col_0</th>\n",
       "      <th>0</th>\n",
       "      <th>1</th>\n",
       "    </tr>\n",
       "    <tr>\n",
       "      <th>row_0</th>\n",
       "      <th></th>\n",
       "      <th></th>\n",
       "    </tr>\n",
       "  </thead>\n",
       "  <tbody>\n",
       "    <tr>\n",
       "      <th>0</th>\n",
       "      <td>3207</td>\n",
       "      <td>285</td>\n",
       "    </tr>\n",
       "    <tr>\n",
       "      <th>1</th>\n",
       "      <td>658</td>\n",
       "      <td>800</td>\n",
       "    </tr>\n",
       "  </tbody>\n",
       "</table>\n",
       "</div>"
      ],
      "text/plain": [
       "col_0     0    1\n",
       "row_0           \n",
       "0      3207  285\n",
       "1       658  800"
      ]
     },
     "execution_count": 6,
     "metadata": {},
     "output_type": "execute_result"
    },
    {
     "data": {
      "image/png": "[encoded data removed]",
      "text/plain": [
       "<Figure size 1080x720 with 1 Axes>"
      ]
     },
     "metadata": {
      "needs_background": "light"
     },
     "output_type": "display_data"
    }
   ],
   "source": [
    "%%time\n",
    "lgb_model = lgb.LGBMClassifier( n_estimators=100,\n",
    "                               bagging_fraction = 0.9,\n",
    "                               feature_fraction = 0.2,\n",
    "                               num_leaves=16,\n",
    "                               n_jobs = -1,\n",
    "                               random_state=5)\n",
    "result = cross_val_score(cv=5, estimator=lgb_model, X=train[X].values, y=train[y].values, scoring='roc_auc')\n",
    "print(np.mean(result))\n",
    "\n",
    "X_train, X_val, y_train, y_val= train_test_split(train[X], train[y], test_size=0.33, random_state=42)\n",
    "lgb_model.fit(X_train, y_train)\n",
    "pred = lgb_model.predict_proba(X_val)[:,1]\n",
    "lgb.plot_importance(lgb_model, max_num_features=30, figsize=(15,10))\n",
    "pd.crosstab(np.where(y_val>1, 1, y_val), np.where(pred>0.5, 1, 0))"
   ]
  },
  {
   "cell_type": "code",
   "execution_count": 7,
   "metadata": {
    "execution": {
     "iopub.execute_input": "2021-02-01T13:32:43.800479Z",
     "iopub.status.busy": "2021-02-01T13:32:43.799446Z",
     "iopub.status.idle": "2021-02-01T13:38:38.107564Z",
     "shell.execute_reply": "2021-02-01T13:38:38.106816Z"
    },
    "papermill": {
     "duration": 357.082101,
     "end_time": "2021-02-01T13:38:38.107727",
     "exception": false,
     "start_time": "2021-02-01T13:32:41.025626",
     "status": "completed"
    },
    "tags": []
   },
   "outputs": [
    {
     "name": "stdout",
     "output_type": "stream",
     "text": [
      "0.83180795\n"
     ]
    },
    {
     "ename": "ValueError",
     "evalue": "feature_names must be unique",
     "output_type": "error",
     "traceback": [
      "\u001b[0;31m---------------------------------------------------------------------------\u001b[0m",
      "\u001b[0;31mValueError\u001b[0m                                Traceback (most recent call last)",
      "\u001b[0;32m<timed exec>\u001b[0m in \u001b[0;36m<module>\u001b[0;34m\u001b[0m\n",
      "\u001b[0;32m/opt/conda/lib/python3.7/site-packages/xgboost/sklearn.py\u001b[0m in \u001b[0;36mfit\u001b[0;34m(self, X, y, sample_weight, base_margin, eval_set, eval_metric, early_stopping_rounds, verbose, xgb_model, sample_weight_eval_set, callbacks)\u001b[0m\n\u001b[1;32m    824\u001b[0m         train_dmatrix = DMatrix(X, label=training_labels, weight=sample_weight,\n\u001b[1;32m    825\u001b[0m                                 \u001b[0mbase_margin\u001b[0m\u001b[0;34m=\u001b[0m\u001b[0mbase_margin\u001b[0m\u001b[0;34m,\u001b[0m\u001b[0;34m\u001b[0m\u001b[0;34m\u001b[0m\u001b[0m\n\u001b[0;32m--> 826\u001b[0;31m                                 missing=self.missing, nthread=self.n_jobs)\n\u001b[0m\u001b[1;32m    827\u001b[0m \u001b[0;34m\u001b[0m\u001b[0m\n\u001b[1;32m    828\u001b[0m         self._Booster = train(xgb_options, train_dmatrix,\n",
      "\u001b[0;32m/opt/conda/lib/python3.7/site-packages/xgboost/core.py\u001b[0m in \u001b[0;36m__init__\u001b[0;34m(self, data, label, weight, base_margin, missing, silent, feature_names, feature_types, nthread)\u001b[0m\n\u001b[1;32m    442\u001b[0m         \u001b[0mself\u001b[0m\u001b[0;34m.\u001b[0m\u001b[0mset_info\u001b[0m\u001b[0;34m(\u001b[0m\u001b[0mlabel\u001b[0m\u001b[0;34m=\u001b[0m\u001b[0mlabel\u001b[0m\u001b[0;34m,\u001b[0m \u001b[0mweight\u001b[0m\u001b[0;34m=\u001b[0m\u001b[0mweight\u001b[0m\u001b[0;34m,\u001b[0m \u001b[0mbase_margin\u001b[0m\u001b[0;34m=\u001b[0m\u001b[0mbase_margin\u001b[0m\u001b[0;34m)\u001b[0m\u001b[0;34m\u001b[0m\u001b[0;34m\u001b[0m\u001b[0m\n\u001b[1;32m    443\u001b[0m \u001b[0;34m\u001b[0m\u001b[0m\n\u001b[0;32m--> 444\u001b[0;31m         \u001b[0mself\u001b[0m\u001b[0;34m.\u001b[0m\u001b[0mfeature_names\u001b[0m \u001b[0;34m=\u001b[0m \u001b[0mfeature_names\u001b[0m\u001b[0;34m\u001b[0m\u001b[0;34m\u001b[0m\u001b[0m\n\u001b[0m\u001b[1;32m    445\u001b[0m         \u001b[0mself\u001b[0m\u001b[0;34m.\u001b[0m\u001b[0mfeature_types\u001b[0m \u001b[0;34m=\u001b[0m \u001b[0mfeature_types\u001b[0m\u001b[0;34m\u001b[0m\u001b[0;34m\u001b[0m\u001b[0m\n\u001b[1;32m    446\u001b[0m \u001b[0;34m\u001b[0m\u001b[0m\n",
      "\u001b[0;32m/opt/conda/lib/python3.7/site-packages/xgboost/core.py\u001b[0m in \u001b[0;36mfeature_names\u001b[0;34m(self, feature_names)\u001b[0m\n\u001b[1;32m    751\u001b[0m \u001b[0;34m\u001b[0m\u001b[0m\n\u001b[1;32m    752\u001b[0m             \u001b[0;32mif\u001b[0m \u001b[0mlen\u001b[0m\u001b[0;34m(\u001b[0m\u001b[0mfeature_names\u001b[0m\u001b[0;34m)\u001b[0m \u001b[0;34m!=\u001b[0m \u001b[0mlen\u001b[0m\u001b[0;34m(\u001b[0m\u001b[0mset\u001b[0m\u001b[0;34m(\u001b[0m\u001b[0mfeature_names\u001b[0m\u001b[0;34m)\u001b[0m\u001b[0;34m)\u001b[0m\u001b[0;34m:\u001b[0m\u001b[0;34m\u001b[0m\u001b[0;34m\u001b[0m\u001b[0m\n\u001b[0;32m--> 753\u001b[0;31m                 \u001b[0;32mraise\u001b[0m \u001b[0mValueError\u001b[0m\u001b[0;34m(\u001b[0m\u001b[0;34m'feature_names must be unique'\u001b[0m\u001b[0;34m)\u001b[0m\u001b[0;34m\u001b[0m\u001b[0;34m\u001b[0m\u001b[0m\n\u001b[0m\u001b[1;32m    754\u001b[0m             \u001b[0;32mif\u001b[0m \u001b[0mlen\u001b[0m\u001b[0;34m(\u001b[0m\u001b[0mfeature_names\u001b[0m\u001b[0;34m)\u001b[0m \u001b[0;34m!=\u001b[0m \u001b[0mself\u001b[0m\u001b[0;34m.\u001b[0m\u001b[0mnum_col\u001b[0m\u001b[0;34m(\u001b[0m\u001b[0;34m)\u001b[0m \u001b[0;32mand\u001b[0m \u001b[0mself\u001b[0m\u001b[0;34m.\u001b[0m\u001b[0mnum_col\u001b[0m\u001b[0;34m(\u001b[0m\u001b[0;34m)\u001b[0m \u001b[0;34m!=\u001b[0m \u001b[0;36m0\u001b[0m\u001b[0;34m:\u001b[0m\u001b[0;34m\u001b[0m\u001b[0;34m\u001b[0m\u001b[0m\n\u001b[1;32m    755\u001b[0m                 \u001b[0mmsg\u001b[0m \u001b[0;34m=\u001b[0m \u001b[0;34m'feature_names must have the same length as data'\u001b[0m\u001b[0;34m\u001b[0m\u001b[0;34m\u001b[0m\u001b[0m\n",
      "\u001b[0;31mValueError\u001b[0m: feature_names must be unique"
     ]
    }
   ],
   "source": [
    "%%time\n",
    "xgb_model = xgb.XGBClassifier(colsample_bytree=0.7,\n",
    "                          learning_rate=0.05, \n",
    "                          max_depth=4, \n",
    "                          n_estimators=300,\n",
    "                          subsample=0.9,\n",
    "                          random_state =7, \n",
    "                          nthread = -1)\n",
    "result = cross_val_score(cv=5, estimator=xgb_model, X=train[X].values, y=train[y].values, scoring='roc_auc')\n",
    "print(np.mean(result))\n",
    "xgb_model.fit(train[X], train[y])\n",
    "xgb.plot_importance(xgb_model, max_num_features=30)"
   ]
  },
  {
   "cell_type": "code",
   "execution_count": 8,
   "metadata": {
    "execution": {
     "iopub.execute_input": "2021-02-01T13:38:46.295008Z",
     "iopub.status.busy": "2021-02-01T13:38:46.294169Z",
     "iopub.status.idle": "2021-02-01T13:40:07.559158Z",
     "shell.execute_reply": "2021-02-01T13:40:07.559745Z"
    },
    "papermill": {
     "duration": 85.432535,
     "end_time": "2021-02-01T13:40:07.559886",
     "exception": false,
     "start_time": "2021-02-01T13:38:42.127351",
     "status": "completed"
    },
    "tags": []
   },
   "outputs": [
    {
     "name": "stdout",
     "output_type": "stream",
     "text": [
      "0.8323080999999999\n"
     ]
    }
   ],
   "source": [
    "gb_model = GradientBoostingClassifier(n_estimators=400, learning_rate=0.05,\n",
    "                                   max_depth=4, max_features='sqrt',\n",
    "                                   min_samples_leaf=30, min_samples_split=10, \n",
    "                                   loss='deviance', random_state =5)\n",
    "result = cross_val_score(cv=5, estimator=gb_model, X=train[X].values, y=train[y].values, scoring='roc_auc')\n",
    "print(np.mean(result))"
   ]
  },
  {
   "cell_type": "markdown",
   "metadata": {
    "papermill": {
     "duration": 2.739526,
     "end_time": "2021-02-01T13:40:13.064352",
     "exception": false,
     "start_time": "2021-02-01T13:40:10.324826",
     "status": "completed"
    },
    "tags": []
   },
   "source": [
    "rf_model = RandomForestClassifier(n_estimators=1000)\n",
    "result = cross_val_score(cv=5, estimator=rf_model, X=train[X].values, y=train[y].values, scoring='roc_auc')\n",
    "print(np.mean(result))"
   ]
  },
  {
   "cell_type": "markdown",
   "metadata": {
    "papermill": {
     "duration": 2.678166,
     "end_time": "2021-02-01T13:40:18.410965",
     "exception": false,
     "start_time": "2021-02-01T13:40:15.732799",
     "status": "completed"
    },
    "tags": []
   },
   "source": [
    "class Meta_Regressor(BaseEstimator):\n",
    "    def __init__(self, base_models, meta_models):\n",
    "        self.base_models = base_models # self.A = B 에서 A와 B가 이름이 같아야한다.. 뭐지 \n",
    "        self.meta_models = meta_models\n",
    "        \n",
    "    def fit(self, X, y):\n",
    "        self.base_models_ = [[] for _ in self.base_models]\n",
    "        self.meta_models_ = clone(self.meta_models)\n",
    "        \n",
    "        Kf = KFold(n_splits=5, shuffle=True, random_state=5)\n",
    "        out_fold_pred = np.zeros((len(X), len(self.base_models)))\n",
    "        for i, model in enumerate(self.base_models):\n",
    "            for train_idx, val_idx in Kf.split(X):\n",
    "                model = clone(self.base_models[i])\n",
    "                model.fit(X[train_idx], y[train_idx])\n",
    "                pred = model.predict_proba(X[val_idx])[:,1]\n",
    "                out_fold_pred[val_idx, i] = pred\n",
    "                self.base_models_[i].append(model)\n",
    "                \n",
    "        self.meta_models_.fit(X=out_fold_pred, y=y)\n",
    "                  \n",
    "    def predict_proba(self, X):\n",
    "        meta_features = np.column_stack([\n",
    "            np.column_stack([model.predict_proba(X)[:,1] for model in sub_models]).mean(axis=1)\n",
    "        for sub_models in self.base_models_])\n",
    "        \n",
    "        scores = self.meta_models_.predict_proba(meta_features)\n",
    "        return scores\n"
   ]
  },
  {
   "cell_type": "markdown",
   "metadata": {
    "papermill": {
     "duration": 2.721946,
     "end_time": "2021-02-01T13:40:23.835827",
     "exception": false,
     "start_time": "2021-02-01T13:40:21.113881",
     "status": "completed"
    },
    "tags": []
   },
   "source": [
    "class Weighted_Ensemble(BaseEstimator, RegressorMixin, TransformerMixin):\n",
    "    def __init__(self, models, weights):\n",
    "        self.models = models\n",
    "        self.weights = weights\n",
    "        \n",
    "    def fit(self, X, y):\n",
    "        self.models_ = [clone(model) for model in self.models]\n",
    "        for model in self.models_:\n",
    "            model.fit(X, y)\n",
    "            \n",
    "    def predict(self, x):\n",
    "        results = np.zeros(len(x))\n",
    "        scores = [model.predict_proba(x)[:,1] for model in self.models]\n",
    "        for i, model in enumerate(scores):\n",
    "            results += scores[i] * self.weights[i]\n",
    "        return results\n",
    "#         return np.concatenate([np.zeors(len(x)), scores], axis=1)\n",
    "    \n",
    "model = Weighted_Ensemble(models = [lgb_model, model_xgb, GBoost, rf, meta_model], weights=[0.2, 0.2, 0.2, 0.2, 0.2] )\n",
    "result = cross_val_score(cv=5, estimator=model, X=train[X].values, y=train[y].values, scoring='roc_auc')\n",
    "print(np.mean(result))"
   ]
  },
  {
   "cell_type": "markdown",
   "metadata": {
    "papermill": {
     "duration": 2.720048,
     "end_time": "2021-02-01T13:40:29.204442",
     "exception": false,
     "start_time": "2021-02-01T13:40:26.484394",
     "status": "completed"
    },
    "tags": []
   },
   "source": [
    "# Test"
   ]
  },
  {
   "cell_type": "code",
   "execution_count": 9,
   "metadata": {
    "execution": {
     "iopub.execute_input": "2021-02-01T13:40:34.554139Z",
     "iopub.status.busy": "2021-02-01T13:40:34.553099Z",
     "iopub.status.idle": "2021-02-01T13:42:16.305849Z",
     "shell.execute_reply": "2021-02-01T13:42:16.306501Z"
    },
    "papermill": {
     "duration": 104.454421,
     "end_time": "2021-02-01T13:42:16.306701",
     "exception": false,
     "start_time": "2021-02-01T13:40:31.852280",
     "status": "completed"
    },
    "tags": []
   },
   "outputs": [],
   "source": [
    "lgb_model.fit(train[X].values, train[y].values)\n",
    "xgb_model.fit(train[X].values, train[y].values)\n",
    "gb_model.fit(train[X].values, train[y].values)\n",
    "# rf_model.fit(train[X].values, train[y].values)\n",
    "\n",
    "del train_qual"
   ]
  },
  {
   "cell_type": "code",
   "execution_count": 10,
   "metadata": {
    "execution": {
     "iopub.execute_input": "2021-02-01T13:42:22.895406Z",
     "iopub.status.busy": "2021-02-01T13:42:22.894810Z",
     "iopub.status.idle": "2021-02-01T13:42:48.373642Z",
     "shell.execute_reply": "2021-02-01T13:42:48.372645Z"
    },
    "papermill": {
     "duration": 28.158725,
     "end_time": "2021-02-01T13:42:48.373796",
     "exception": false,
     "start_time": "2021-02-01T13:42:20.215071",
     "status": "completed"
    },
    "tags": []
   },
   "outputs": [
    {
     "name": "stderr",
     "output_type": "stream",
     "text": [
      "/opt/conda/lib/python3.7/site-packages/IPython/core/interactiveshell.py:3063: DtypeWarning: Columns (4,11,12) have mixed types.Specify dtype option on import or set low_memory=False.\n",
      "  interactivity=interactivity, compiler=compiler, result=result)\n"
     ]
    }
   ],
   "source": [
    "test_err = pd.read_csv(\"/kaggle/input/dacon-lg/test_err_data.csv\")\n",
    "test_qual = pd.read_csv(\"/kaggle/input/dacon-lg/test_quality_data.csv\")\n",
    "sample_submission = pd.read_csv(\"/kaggle/input/dacon-lg/sample_submission.csv\")\n",
    "if is_trainn:\n",
    "    test_err = test_err[:10000]"
   ]
  },
  {
   "cell_type": "code",
   "execution_count": 11,
   "metadata": {
    "execution": {
     "iopub.execute_input": "2021-02-01T13:42:55.694238Z",
     "iopub.status.busy": "2021-02-01T13:42:53.762500Z",
     "iopub.status.idle": "2021-02-01T14:10:23.747578Z",
     "shell.execute_reply": "2021-02-01T14:10:23.748110Z"
    },
    "papermill": {
     "duration": 1652.728232,
     "end_time": "2021-02-01T14:10:23.748309",
     "exception": false,
     "start_time": "2021-02-01T13:42:51.020077",
     "status": "completed"
    },
    "tags": []
   },
   "outputs": [
    {
     "name": "stderr",
     "output_type": "stream",
     "text": [
      "100%|██████████| 16532648/16532648 [00:55<00:00, 295607.68it/s]\n",
      "100%|██████████| 16532648/16532648 [01:11<00:00, 230116.14it/s]\n",
      "100%|██████████| 16532648/16532648 [00:55<00:00, 298432.06it/s]\n",
      "100%|██████████| 16532648/16532648 [00:52<00:00, 315816.18it/s]\n",
      "100%|██████████| 16532648/16532648 [01:05<00:00, 253154.38it/s]\n",
      "100%|██████████| 16532648/16532648 [00:55<00:00, 297588.50it/s]\n",
      "100%|██████████| 16532648/16532648 [00:57<00:00, 287440.52it/s]\n",
      "100%|██████████| 16532648/16532648 [00:53<00:00, 309383.03it/s]\n",
      "100%|██████████| 16532648/16532648 [00:54<00:00, 300846.09it/s]\n",
      "100%|██████████| 16532648/16532648 [00:54<00:00, 304532.34it/s]\n",
      "100%|██████████| 16532648/16532648 [00:56<00:00, 292319.64it/s]\n",
      "100%|██████████| 16532648/16532648 [00:53<00:00, 311392.05it/s]\n",
      "100%|██████████| 16532648/16532648 [00:55<00:00, 299195.33it/s]\n",
      "100%|██████████| 16532648/16532648 [00:56<00:00, 291674.19it/s]\n"
     ]
    },
    {
     "name": "stdout",
     "output_type": "stream",
     "text": [
      "Index([], dtype='object')\n"
     ]
    }
   ],
   "source": [
    "test = preprcss(test_err, test_qual, is_train=False)\n",
    "print(X[~X.isin(test.columns)])\n",
    "test[X[~X.isin(test.columns)]] = 0\n",
    "\n",
    "pred_lgb = lgb_model.predict_proba(test[X].values)[:,1]\n",
    "pred_xgb = xgb_model.predict_proba(test[X].values)[:,1]\n",
    "pred_gb = gb_model.predict_proba(test[X].values)[:,1]\n",
    "# pred_rf = rf_model.predict_proba(test[X].values)[:,1]\n"
   ]
  },
  {
   "cell_type": "code",
   "execution_count": 12,
   "metadata": {
    "execution": {
     "iopub.execute_input": "2021-02-01T14:10:37.784584Z",
     "iopub.status.busy": "2021-02-01T14:10:37.783428Z",
     "iopub.status.idle": "2021-02-01T14:10:38.273107Z",
     "shell.execute_reply": "2021-02-01T14:10:38.272244Z"
    },
    "papermill": {
     "duration": 8.666417,
     "end_time": "2021-02-01T14:10:38.273242",
     "exception": false,
     "start_time": "2021-02-01T14:10:29.606825",
     "status": "completed"
    },
    "tags": []
   },
   "outputs": [
    {
     "data": {
      "text/html": [
       "<div>\n",
       "<style scoped>\n",
       "    .dataframe tbody tr th:only-of-type {\n",
       "        vertical-align: middle;\n",
       "    }\n",
       "\n",
       "    .dataframe tbody tr th {\n",
       "        vertical-align: top;\n",
       "    }\n",
       "\n",
       "    .dataframe thead th {\n",
       "        text-align: right;\n",
       "    }\n",
       "</style>\n",
       "<table border=\"1\" class=\"dataframe\">\n",
       "  <thead>\n",
       "    <tr style=\"text-align: right;\">\n",
       "      <th></th>\n",
       "      <th>user_id</th>\n",
       "      <th>problem</th>\n",
       "      <th>pred_lgb</th>\n",
       "      <th>pred_xgb</th>\n",
       "      <th>pred_gb</th>\n",
       "    </tr>\n",
       "  </thead>\n",
       "  <tbody>\n",
       "    <tr>\n",
       "      <th>0</th>\n",
       "      <td>30000</td>\n",
       "      <td>0.948152</td>\n",
       "      <td>0.941667</td>\n",
       "      <td>0.953491</td>\n",
       "      <td>0.949494</td>\n",
       "    </tr>\n",
       "    <tr>\n",
       "      <th>1</th>\n",
       "      <td>30001</td>\n",
       "      <td>0.279620</td>\n",
       "      <td>0.275750</td>\n",
       "      <td>0.289766</td>\n",
       "      <td>0.273462</td>\n",
       "    </tr>\n",
       "    <tr>\n",
       "      <th>2</th>\n",
       "      <td>30002</td>\n",
       "      <td>0.347275</td>\n",
       "      <td>0.317199</td>\n",
       "      <td>0.328947</td>\n",
       "      <td>0.396590</td>\n",
       "    </tr>\n",
       "    <tr>\n",
       "      <th>3</th>\n",
       "      <td>30003</td>\n",
       "      <td>0.838679</td>\n",
       "      <td>0.821974</td>\n",
       "      <td>0.847519</td>\n",
       "      <td>0.847049</td>\n",
       "    </tr>\n",
       "    <tr>\n",
       "      <th>4</th>\n",
       "      <td>30004</td>\n",
       "      <td>0.940037</td>\n",
       "      <td>0.954747</td>\n",
       "      <td>0.904753</td>\n",
       "      <td>0.960165</td>\n",
       "    </tr>\n",
       "    <tr>\n",
       "      <th>...</th>\n",
       "      <td>...</td>\n",
       "      <td>...</td>\n",
       "      <td>...</td>\n",
       "      <td>...</td>\n",
       "      <td>...</td>\n",
       "    </tr>\n",
       "    <tr>\n",
       "      <th>14994</th>\n",
       "      <td>44994</td>\n",
       "      <td>0.226866</td>\n",
       "      <td>0.239987</td>\n",
       "      <td>0.203619</td>\n",
       "      <td>0.236596</td>\n",
       "    </tr>\n",
       "    <tr>\n",
       "      <th>14995</th>\n",
       "      <td>44995</td>\n",
       "      <td>0.216066</td>\n",
       "      <td>0.180670</td>\n",
       "      <td>0.256136</td>\n",
       "      <td>0.212465</td>\n",
       "    </tr>\n",
       "    <tr>\n",
       "      <th>14996</th>\n",
       "      <td>44996</td>\n",
       "      <td>0.771944</td>\n",
       "      <td>0.788072</td>\n",
       "      <td>0.794473</td>\n",
       "      <td>0.732799</td>\n",
       "    </tr>\n",
       "    <tr>\n",
       "      <th>14997</th>\n",
       "      <td>44997</td>\n",
       "      <td>0.854704</td>\n",
       "      <td>0.910081</td>\n",
       "      <td>0.837486</td>\n",
       "      <td>0.814868</td>\n",
       "    </tr>\n",
       "    <tr>\n",
       "      <th>14998</th>\n",
       "      <td>44998</td>\n",
       "      <td>0.437720</td>\n",
       "      <td>0.409332</td>\n",
       "      <td>0.468302</td>\n",
       "      <td>0.436387</td>\n",
       "    </tr>\n",
       "  </tbody>\n",
       "</table>\n",
       "<p>14999 rows × 5 columns</p>\n",
       "</div>"
      ],
      "text/plain": [
       "       user_id   problem  pred_lgb  pred_xgb   pred_gb\n",
       "0        30000  0.948152  0.941667  0.953491  0.949494\n",
       "1        30001  0.279620  0.275750  0.289766  0.273462\n",
       "2        30002  0.347275  0.317199  0.328947  0.396590\n",
       "3        30003  0.838679  0.821974  0.847519  0.847049\n",
       "4        30004  0.940037  0.954747  0.904753  0.960165\n",
       "...        ...       ...       ...       ...       ...\n",
       "14994    44994  0.226866  0.239987  0.203619  0.236596\n",
       "14995    44995  0.216066  0.180670  0.256136  0.212465\n",
       "14996    44996  0.771944  0.788072  0.794473  0.732799\n",
       "14997    44997  0.854704  0.910081  0.837486  0.814868\n",
       "14998    44998  0.437720  0.409332  0.468302  0.436387\n",
       "\n",
       "[14999 rows x 5 columns]"
      ]
     },
     "execution_count": 12,
     "metadata": {},
     "output_type": "execute_result"
    }
   ],
   "source": [
    "pred = pred_lgb*0.34 + pred_xgb*0.33 + pred_gb*0.33\n",
    "test['pred_lgb'] = pred_lgb\n",
    "test['pred_xgb'] = pred_xgb\n",
    "test['pred_gb'] = pred_gb\n",
    "test['problem'] = pred\n",
    "sample_submission = sample_submission[['user_id']].merge(test[['user_id', 'problem', 'pred_lgb', 'pred_xgb', 'pred_gb']], how='left', on='user_id')\n",
    "sample_submission.loc[sample_submission['user_id']==43262, 'problem'] = 0.5\n",
    "sample_submission.loc[sample_submission['user_id']==43262, 'pred_lgb'] = 0.5\n",
    "sample_submission.loc[sample_submission['user_id']==43262, 'pred_xgb'] = 0.5\n",
    "sample_submission.loc[sample_submission['user_id']==43262, 'pred_gb'] = 0.5\n",
    "sample_submission.to_csv(\"submission.csv\", index=False)\n",
    "sample_submission"
   ]
  }
 ],
 "metadata": {
  "kernelspec": {
   "display_name": "Python 3",
   "language": "python",
   "name": "python3"
  },
  "language_info": {
   "codemirror_mode": {
    "name": "ipython",
    "version": 3
   },
   "file_extension": ".py",
   "mimetype": "text/x-python",
   "name": "python",
   "nbconvert_exporter": "python",
   "pygments_lexer": "ipython3",
   "version": "3.7.6"
  },
  "papermill": {
   "duration": 4086.739875,
   "end_time": "2021-02-01T14:10:46.597717",
   "environment_variables": {},
   "exception": null,
   "input_path": "__notebook__.ipynb",
   "output_path": "__notebook__.ipynb",
   "parameters": {},
   "start_time": "2021-02-01T13:02:39.857842",
   "version": "2.1.0"
  }
 },
 "nbformat": 4,
 "nbformat_minor": 4
}
